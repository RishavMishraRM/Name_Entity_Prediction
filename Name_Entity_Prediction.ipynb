{
  "nbformat": 4,
  "nbformat_minor": 0,
  "metadata": {
    "colab": {
      "name": "Name_Entity_Prediction.ipynb",
      "provenance": []
    },
    "kernelspec": {
      "name": "python3",
      "display_name": "Python 3"
    },
    "language_info": {
      "name": "python"
    }
  },
  "cells": [
    {
      "cell_type": "code",
      "metadata": {
        "id": "lfmApU7-Vv1t"
      },
      "source": [
        "import pandas as pd\n",
        "import numpy as np\n",
        "import matplotlib.pyplot as plt"
      ],
      "execution_count": 1,
      "outputs": []
    },
    {
      "cell_type": "code",
      "metadata": {
        "id": "sOcXEMjVbmbj"
      },
      "source": [
        "data = pd.read_csv(\"NationalNames.csv\")"
      ],
      "execution_count": 2,
      "outputs": []
    },
    {
      "cell_type": "code",
      "metadata": {
        "colab": {
          "base_uri": "https://localhost:8080/"
        },
        "id": "CdyAkdKab6Fv",
        "outputId": "55a0d0f7-e060-4875-b1e8-4ad954ecc88d"
      },
      "source": [
        "data.shape"
      ],
      "execution_count": 3,
      "outputs": [
        {
          "output_type": "execute_result",
          "data": {
            "text/plain": [
              "(1825433, 5)"
            ]
          },
          "metadata": {
            "tags": []
          },
          "execution_count": 3
        }
      ]
    },
    {
      "cell_type": "code",
      "metadata": {
        "colab": {
          "base_uri": "https://localhost:8080/",
          "height": 204
        },
        "id": "ZSc-gM9ocA16",
        "outputId": "b3e417fb-c9f6-48ef-9242-fc0cd152ba35"
      },
      "source": [
        "data.head()"
      ],
      "execution_count": 4,
      "outputs": [
        {
          "output_type": "execute_result",
          "data": {
            "text/html": [
              "<div>\n",
              "<style scoped>\n",
              "    .dataframe tbody tr th:only-of-type {\n",
              "        vertical-align: middle;\n",
              "    }\n",
              "\n",
              "    .dataframe tbody tr th {\n",
              "        vertical-align: top;\n",
              "    }\n",
              "\n",
              "    .dataframe thead th {\n",
              "        text-align: right;\n",
              "    }\n",
              "</style>\n",
              "<table border=\"1\" class=\"dataframe\">\n",
              "  <thead>\n",
              "    <tr style=\"text-align: right;\">\n",
              "      <th></th>\n",
              "      <th>Id</th>\n",
              "      <th>Name</th>\n",
              "      <th>Year</th>\n",
              "      <th>Gender</th>\n",
              "      <th>Count</th>\n",
              "    </tr>\n",
              "  </thead>\n",
              "  <tbody>\n",
              "    <tr>\n",
              "      <th>0</th>\n",
              "      <td>1</td>\n",
              "      <td>Mary</td>\n",
              "      <td>1880</td>\n",
              "      <td>F</td>\n",
              "      <td>7065</td>\n",
              "    </tr>\n",
              "    <tr>\n",
              "      <th>1</th>\n",
              "      <td>2</td>\n",
              "      <td>Anna</td>\n",
              "      <td>1880</td>\n",
              "      <td>F</td>\n",
              "      <td>2604</td>\n",
              "    </tr>\n",
              "    <tr>\n",
              "      <th>2</th>\n",
              "      <td>3</td>\n",
              "      <td>Emma</td>\n",
              "      <td>1880</td>\n",
              "      <td>F</td>\n",
              "      <td>2003</td>\n",
              "    </tr>\n",
              "    <tr>\n",
              "      <th>3</th>\n",
              "      <td>4</td>\n",
              "      <td>Elizabeth</td>\n",
              "      <td>1880</td>\n",
              "      <td>F</td>\n",
              "      <td>1939</td>\n",
              "    </tr>\n",
              "    <tr>\n",
              "      <th>4</th>\n",
              "      <td>5</td>\n",
              "      <td>Minnie</td>\n",
              "      <td>1880</td>\n",
              "      <td>F</td>\n",
              "      <td>1746</td>\n",
              "    </tr>\n",
              "  </tbody>\n",
              "</table>\n",
              "</div>"
            ],
            "text/plain": [
              "   Id       Name  Year Gender  Count\n",
              "0   1       Mary  1880      F   7065\n",
              "1   2       Anna  1880      F   2604\n",
              "2   3       Emma  1880      F   2003\n",
              "3   4  Elizabeth  1880      F   1939\n",
              "4   5     Minnie  1880      F   1746"
            ]
          },
          "metadata": {
            "tags": []
          },
          "execution_count": 4
        }
      ]
    },
    {
      "cell_type": "code",
      "metadata": {
        "colab": {
          "base_uri": "https://localhost:8080/"
        },
        "id": "z4d2ke0IcElf",
        "outputId": "291d23e9-aa7d-4f54-e04f-d99d8f68e092"
      },
      "source": [
        "data['Name'].nunique()"
      ],
      "execution_count": 5,
      "outputs": [
        {
          "output_type": "execute_result",
          "data": {
            "text/plain": [
              "93889"
            ]
          },
          "metadata": {
            "tags": []
          },
          "execution_count": 5
        }
      ]
    },
    {
      "cell_type": "code",
      "metadata": {
        "id": "I3HB6rQacV-E"
      },
      "source": [
        "data['Gender'] = data['Gender'].astype('category').cat.codes"
      ],
      "execution_count": 6,
      "outputs": []
    },
    {
      "cell_type": "code",
      "metadata": {
        "colab": {
          "base_uri": "https://localhost:8080/",
          "height": 204
        },
        "id": "oIcOkrcbcg88",
        "outputId": "5ba1ffa0-7914-487b-fd50-7469055de02b"
      },
      "source": [
        "data.head()"
      ],
      "execution_count": 7,
      "outputs": [
        {
          "output_type": "execute_result",
          "data": {
            "text/html": [
              "<div>\n",
              "<style scoped>\n",
              "    .dataframe tbody tr th:only-of-type {\n",
              "        vertical-align: middle;\n",
              "    }\n",
              "\n",
              "    .dataframe tbody tr th {\n",
              "        vertical-align: top;\n",
              "    }\n",
              "\n",
              "    .dataframe thead th {\n",
              "        text-align: right;\n",
              "    }\n",
              "</style>\n",
              "<table border=\"1\" class=\"dataframe\">\n",
              "  <thead>\n",
              "    <tr style=\"text-align: right;\">\n",
              "      <th></th>\n",
              "      <th>Id</th>\n",
              "      <th>Name</th>\n",
              "      <th>Year</th>\n",
              "      <th>Gender</th>\n",
              "      <th>Count</th>\n",
              "    </tr>\n",
              "  </thead>\n",
              "  <tbody>\n",
              "    <tr>\n",
              "      <th>0</th>\n",
              "      <td>1</td>\n",
              "      <td>Mary</td>\n",
              "      <td>1880</td>\n",
              "      <td>0</td>\n",
              "      <td>7065</td>\n",
              "    </tr>\n",
              "    <tr>\n",
              "      <th>1</th>\n",
              "      <td>2</td>\n",
              "      <td>Anna</td>\n",
              "      <td>1880</td>\n",
              "      <td>0</td>\n",
              "      <td>2604</td>\n",
              "    </tr>\n",
              "    <tr>\n",
              "      <th>2</th>\n",
              "      <td>3</td>\n",
              "      <td>Emma</td>\n",
              "      <td>1880</td>\n",
              "      <td>0</td>\n",
              "      <td>2003</td>\n",
              "    </tr>\n",
              "    <tr>\n",
              "      <th>3</th>\n",
              "      <td>4</td>\n",
              "      <td>Elizabeth</td>\n",
              "      <td>1880</td>\n",
              "      <td>0</td>\n",
              "      <td>1939</td>\n",
              "    </tr>\n",
              "    <tr>\n",
              "      <th>4</th>\n",
              "      <td>5</td>\n",
              "      <td>Minnie</td>\n",
              "      <td>1880</td>\n",
              "      <td>0</td>\n",
              "      <td>1746</td>\n",
              "    </tr>\n",
              "  </tbody>\n",
              "</table>\n",
              "</div>"
            ],
            "text/plain": [
              "   Id       Name  Year  Gender  Count\n",
              "0   1       Mary  1880       0   7065\n",
              "1   2       Anna  1880       0   2604\n",
              "2   3       Emma  1880       0   2003\n",
              "3   4  Elizabeth  1880       0   1939\n",
              "4   5     Minnie  1880       0   1746"
            ]
          },
          "metadata": {
            "tags": []
          },
          "execution_count": 7
        }
      ]
    },
    {
      "cell_type": "code",
      "metadata": {
        "id": "Q62Izq32cwPf"
      },
      "source": [
        "df = data.groupby('Name').mean()['Gender'].reset_index()"
      ],
      "execution_count": 8,
      "outputs": []
    },
    {
      "cell_type": "code",
      "metadata": {
        "colab": {
          "base_uri": "https://localhost:8080/",
          "height": 419
        },
        "id": "w1_7Jyc4c-wI",
        "outputId": "28723883-00a5-4682-833f-aeb25b8c09a3"
      },
      "source": [
        "df"
      ],
      "execution_count": 9,
      "outputs": [
        {
          "output_type": "execute_result",
          "data": {
            "text/html": [
              "<div>\n",
              "<style scoped>\n",
              "    .dataframe tbody tr th:only-of-type {\n",
              "        vertical-align: middle;\n",
              "    }\n",
              "\n",
              "    .dataframe tbody tr th {\n",
              "        vertical-align: top;\n",
              "    }\n",
              "\n",
              "    .dataframe thead th {\n",
              "        text-align: right;\n",
              "    }\n",
              "</style>\n",
              "<table border=\"1\" class=\"dataframe\">\n",
              "  <thead>\n",
              "    <tr style=\"text-align: right;\">\n",
              "      <th></th>\n",
              "      <th>Name</th>\n",
              "      <th>Gender</th>\n",
              "    </tr>\n",
              "  </thead>\n",
              "  <tbody>\n",
              "    <tr>\n",
              "      <th>0</th>\n",
              "      <td>Aaban</td>\n",
              "      <td>1.0</td>\n",
              "    </tr>\n",
              "    <tr>\n",
              "      <th>1</th>\n",
              "      <td>Aabha</td>\n",
              "      <td>0.0</td>\n",
              "    </tr>\n",
              "    <tr>\n",
              "      <th>2</th>\n",
              "      <td>Aabid</td>\n",
              "      <td>1.0</td>\n",
              "    </tr>\n",
              "    <tr>\n",
              "      <th>3</th>\n",
              "      <td>Aabriella</td>\n",
              "      <td>0.0</td>\n",
              "    </tr>\n",
              "    <tr>\n",
              "      <th>4</th>\n",
              "      <td>Aadam</td>\n",
              "      <td>1.0</td>\n",
              "    </tr>\n",
              "    <tr>\n",
              "      <th>...</th>\n",
              "      <td>...</td>\n",
              "      <td>...</td>\n",
              "    </tr>\n",
              "    <tr>\n",
              "      <th>93884</th>\n",
              "      <td>Zytavious</td>\n",
              "      <td>1.0</td>\n",
              "    </tr>\n",
              "    <tr>\n",
              "      <th>93885</th>\n",
              "      <td>Zyvion</td>\n",
              "      <td>1.0</td>\n",
              "    </tr>\n",
              "    <tr>\n",
              "      <th>93886</th>\n",
              "      <td>Zyyanna</td>\n",
              "      <td>0.0</td>\n",
              "    </tr>\n",
              "    <tr>\n",
              "      <th>93887</th>\n",
              "      <td>Zyyon</td>\n",
              "      <td>1.0</td>\n",
              "    </tr>\n",
              "    <tr>\n",
              "      <th>93888</th>\n",
              "      <td>Zzyzx</td>\n",
              "      <td>1.0</td>\n",
              "    </tr>\n",
              "  </tbody>\n",
              "</table>\n",
              "<p>93889 rows × 2 columns</p>\n",
              "</div>"
            ],
            "text/plain": [
              "            Name  Gender\n",
              "0          Aaban     1.0\n",
              "1          Aabha     0.0\n",
              "2          Aabid     1.0\n",
              "3      Aabriella     0.0\n",
              "4          Aadam     1.0\n",
              "...          ...     ...\n",
              "93884  Zytavious     1.0\n",
              "93885     Zyvion     1.0\n",
              "93886    Zyyanna     0.0\n",
              "93887      Zyyon     1.0\n",
              "93888      Zzyzx     1.0\n",
              "\n",
              "[93889 rows x 2 columns]"
            ]
          },
          "metadata": {
            "tags": []
          },
          "execution_count": 9
        }
      ]
    },
    {
      "cell_type": "code",
      "metadata": {
        "colab": {
          "base_uri": "https://localhost:8080/",
          "height": 419
        },
        "id": "EYXXG_AsdEDM",
        "outputId": "17edcc0d-2757-4c49-9176-e0653779b169"
      },
      "source": [
        "df['Gender'] = df['Gender'].astype('int')\n",
        "df"
      ],
      "execution_count": 10,
      "outputs": [
        {
          "output_type": "execute_result",
          "data": {
            "text/html": [
              "<div>\n",
              "<style scoped>\n",
              "    .dataframe tbody tr th:only-of-type {\n",
              "        vertical-align: middle;\n",
              "    }\n",
              "\n",
              "    .dataframe tbody tr th {\n",
              "        vertical-align: top;\n",
              "    }\n",
              "\n",
              "    .dataframe thead th {\n",
              "        text-align: right;\n",
              "    }\n",
              "</style>\n",
              "<table border=\"1\" class=\"dataframe\">\n",
              "  <thead>\n",
              "    <tr style=\"text-align: right;\">\n",
              "      <th></th>\n",
              "      <th>Name</th>\n",
              "      <th>Gender</th>\n",
              "    </tr>\n",
              "  </thead>\n",
              "  <tbody>\n",
              "    <tr>\n",
              "      <th>0</th>\n",
              "      <td>Aaban</td>\n",
              "      <td>1</td>\n",
              "    </tr>\n",
              "    <tr>\n",
              "      <th>1</th>\n",
              "      <td>Aabha</td>\n",
              "      <td>0</td>\n",
              "    </tr>\n",
              "    <tr>\n",
              "      <th>2</th>\n",
              "      <td>Aabid</td>\n",
              "      <td>1</td>\n",
              "    </tr>\n",
              "    <tr>\n",
              "      <th>3</th>\n",
              "      <td>Aabriella</td>\n",
              "      <td>0</td>\n",
              "    </tr>\n",
              "    <tr>\n",
              "      <th>4</th>\n",
              "      <td>Aadam</td>\n",
              "      <td>1</td>\n",
              "    </tr>\n",
              "    <tr>\n",
              "      <th>...</th>\n",
              "      <td>...</td>\n",
              "      <td>...</td>\n",
              "    </tr>\n",
              "    <tr>\n",
              "      <th>93884</th>\n",
              "      <td>Zytavious</td>\n",
              "      <td>1</td>\n",
              "    </tr>\n",
              "    <tr>\n",
              "      <th>93885</th>\n",
              "      <td>Zyvion</td>\n",
              "      <td>1</td>\n",
              "    </tr>\n",
              "    <tr>\n",
              "      <th>93886</th>\n",
              "      <td>Zyyanna</td>\n",
              "      <td>0</td>\n",
              "    </tr>\n",
              "    <tr>\n",
              "      <th>93887</th>\n",
              "      <td>Zyyon</td>\n",
              "      <td>1</td>\n",
              "    </tr>\n",
              "    <tr>\n",
              "      <th>93888</th>\n",
              "      <td>Zzyzx</td>\n",
              "      <td>1</td>\n",
              "    </tr>\n",
              "  </tbody>\n",
              "</table>\n",
              "<p>93889 rows × 2 columns</p>\n",
              "</div>"
            ],
            "text/plain": [
              "            Name  Gender\n",
              "0          Aaban       1\n",
              "1          Aabha       0\n",
              "2          Aabid       1\n",
              "3      Aabriella       0\n",
              "4          Aadam       1\n",
              "...          ...     ...\n",
              "93884  Zytavious       1\n",
              "93885     Zyvion       1\n",
              "93886    Zyyanna       0\n",
              "93887      Zyyon       1\n",
              "93888      Zzyzx       1\n",
              "\n",
              "[93889 rows x 2 columns]"
            ]
          },
          "metadata": {
            "tags": []
          },
          "execution_count": 10
        }
      ]
    },
    {
      "cell_type": "code",
      "metadata": {
        "colab": {
          "base_uri": "https://localhost:8080/",
          "height": 204
        },
        "id": "JBBVvAnydSQN",
        "outputId": "0155fb1d-8f44-4a84-8db7-d2f5668673ff"
      },
      "source": [
        "df.head()"
      ],
      "execution_count": 11,
      "outputs": [
        {
          "output_type": "execute_result",
          "data": {
            "text/html": [
              "<div>\n",
              "<style scoped>\n",
              "    .dataframe tbody tr th:only-of-type {\n",
              "        vertical-align: middle;\n",
              "    }\n",
              "\n",
              "    .dataframe tbody tr th {\n",
              "        vertical-align: top;\n",
              "    }\n",
              "\n",
              "    .dataframe thead th {\n",
              "        text-align: right;\n",
              "    }\n",
              "</style>\n",
              "<table border=\"1\" class=\"dataframe\">\n",
              "  <thead>\n",
              "    <tr style=\"text-align: right;\">\n",
              "      <th></th>\n",
              "      <th>Name</th>\n",
              "      <th>Gender</th>\n",
              "    </tr>\n",
              "  </thead>\n",
              "  <tbody>\n",
              "    <tr>\n",
              "      <th>0</th>\n",
              "      <td>Aaban</td>\n",
              "      <td>1</td>\n",
              "    </tr>\n",
              "    <tr>\n",
              "      <th>1</th>\n",
              "      <td>Aabha</td>\n",
              "      <td>0</td>\n",
              "    </tr>\n",
              "    <tr>\n",
              "      <th>2</th>\n",
              "      <td>Aabid</td>\n",
              "      <td>1</td>\n",
              "    </tr>\n",
              "    <tr>\n",
              "      <th>3</th>\n",
              "      <td>Aabriella</td>\n",
              "      <td>0</td>\n",
              "    </tr>\n",
              "    <tr>\n",
              "      <th>4</th>\n",
              "      <td>Aadam</td>\n",
              "      <td>1</td>\n",
              "    </tr>\n",
              "  </tbody>\n",
              "</table>\n",
              "</div>"
            ],
            "text/plain": [
              "        Name  Gender\n",
              "0      Aaban       1\n",
              "1      Aabha       0\n",
              "2      Aabid       1\n",
              "3  Aabriella       0\n",
              "4      Aadam       1"
            ]
          },
          "metadata": {
            "tags": []
          },
          "execution_count": 11
        }
      ]
    },
    {
      "cell_type": "code",
      "metadata": {
        "id": "HxK0_bHJdX7u"
      },
      "source": [
        "import string"
      ],
      "execution_count": 12,
      "outputs": []
    },
    {
      "cell_type": "code",
      "metadata": {
        "colab": {
          "base_uri": "https://localhost:8080/"
        },
        "id": "n4UNUOp0dpn3",
        "outputId": "3c315877-31ca-4f93-9fba-fd8c9bbd68c8"
      },
      "source": [
        "letters = list(string.ascii_lowercase)\n",
        "letters"
      ],
      "execution_count": 13,
      "outputs": [
        {
          "output_type": "execute_result",
          "data": {
            "text/plain": [
              "['a',\n",
              " 'b',\n",
              " 'c',\n",
              " 'd',\n",
              " 'e',\n",
              " 'f',\n",
              " 'g',\n",
              " 'h',\n",
              " 'i',\n",
              " 'j',\n",
              " 'k',\n",
              " 'l',\n",
              " 'm',\n",
              " 'n',\n",
              " 'o',\n",
              " 'p',\n",
              " 'q',\n",
              " 'r',\n",
              " 's',\n",
              " 't',\n",
              " 'u',\n",
              " 'v',\n",
              " 'w',\n",
              " 'x',\n",
              " 'y',\n",
              " 'z']"
            ]
          },
          "metadata": {
            "tags": []
          },
          "execution_count": 13
        }
      ]
    },
    {
      "cell_type": "code",
      "metadata": {
        "colab": {
          "base_uri": "https://localhost:8080/"
        },
        "id": "23nxHdTNdxRY",
        "outputId": "d09abd13-a55e-474f-e462-5baaec9d8f9e"
      },
      "source": [
        "vocab = dict(zip(letters, range(1, 27)))\n",
        "vocab"
      ],
      "execution_count": 14,
      "outputs": [
        {
          "output_type": "execute_result",
          "data": {
            "text/plain": [
              "{'a': 1,\n",
              " 'b': 2,\n",
              " 'c': 3,\n",
              " 'd': 4,\n",
              " 'e': 5,\n",
              " 'f': 6,\n",
              " 'g': 7,\n",
              " 'h': 8,\n",
              " 'i': 9,\n",
              " 'j': 10,\n",
              " 'k': 11,\n",
              " 'l': 12,\n",
              " 'm': 13,\n",
              " 'n': 14,\n",
              " 'o': 15,\n",
              " 'p': 16,\n",
              " 'q': 17,\n",
              " 'r': 18,\n",
              " 's': 19,\n",
              " 't': 20,\n",
              " 'u': 21,\n",
              " 'v': 22,\n",
              " 'w': 23,\n",
              " 'x': 24,\n",
              " 'y': 25,\n",
              " 'z': 26}"
            ]
          },
          "metadata": {
            "tags": []
          },
          "execution_count": 14
        }
      ]
    },
    {
      "cell_type": "code",
      "metadata": {
        "colab": {
          "base_uri": "https://localhost:8080/"
        },
        "id": "Rj8m0Ra-eCGm",
        "outputId": "645b7a4f-e234-42d9-dcd2-e090fa2604d0"
      },
      "source": [
        "r_vocab = dict(zip(range(1, 27), letters))\n",
        "r_vocab"
      ],
      "execution_count": 15,
      "outputs": [
        {
          "output_type": "execute_result",
          "data": {
            "text/plain": [
              "{1: 'a',\n",
              " 2: 'b',\n",
              " 3: 'c',\n",
              " 4: 'd',\n",
              " 5: 'e',\n",
              " 6: 'f',\n",
              " 7: 'g',\n",
              " 8: 'h',\n",
              " 9: 'i',\n",
              " 10: 'j',\n",
              " 11: 'k',\n",
              " 12: 'l',\n",
              " 13: 'm',\n",
              " 14: 'n',\n",
              " 15: 'o',\n",
              " 16: 'p',\n",
              " 17: 'q',\n",
              " 18: 'r',\n",
              " 19: 's',\n",
              " 20: 't',\n",
              " 21: 'u',\n",
              " 22: 'v',\n",
              " 23: 'w',\n",
              " 24: 'x',\n",
              " 25: 'y',\n",
              " 26: 'z'}"
            ]
          },
          "metadata": {
            "tags": []
          },
          "execution_count": 15
        }
      ]
    },
    {
      "cell_type": "code",
      "metadata": {
        "id": "-rkSToqQeQt6"
      },
      "source": [
        "def word_to_number():\n",
        "  for i in range(0, df.shape[0]):\n",
        "    seq = [vocab [letters.lower()] for letters in df['Name'][i] ]\n",
        "    df['Name'][i] = seq"
      ],
      "execution_count": 16,
      "outputs": []
    },
    {
      "cell_type": "code",
      "metadata": {
        "colab": {
          "base_uri": "https://localhost:8080/"
        },
        "id": "S49LBi25fCC9",
        "outputId": "33e06980-7ea8-459e-92e1-744296b6aa2d"
      },
      "source": [
        "word_to_number()"
      ],
      "execution_count": 17,
      "outputs": [
        {
          "output_type": "stream",
          "text": [
            "/usr/local/lib/python3.7/dist-packages/ipykernel_launcher.py:4: SettingWithCopyWarning: \n",
            "A value is trying to be set on a copy of a slice from a DataFrame\n",
            "\n",
            "See the caveats in the documentation: https://pandas.pydata.org/pandas-docs/stable/user_guide/indexing.html#returning-a-view-versus-a-copy\n",
            "  after removing the cwd from sys.path.\n"
          ],
          "name": "stderr"
        }
      ]
    },
    {
      "cell_type": "code",
      "metadata": {
        "colab": {
          "base_uri": "https://localhost:8080/",
          "height": 204
        },
        "id": "9CGPw3pqfDCs",
        "outputId": "761655c2-003d-430e-e50d-ea30fe8799cc"
      },
      "source": [
        "df.head()"
      ],
      "execution_count": 18,
      "outputs": [
        {
          "output_type": "execute_result",
          "data": {
            "text/html": [
              "<div>\n",
              "<style scoped>\n",
              "    .dataframe tbody tr th:only-of-type {\n",
              "        vertical-align: middle;\n",
              "    }\n",
              "\n",
              "    .dataframe tbody tr th {\n",
              "        vertical-align: top;\n",
              "    }\n",
              "\n",
              "    .dataframe thead th {\n",
              "        text-align: right;\n",
              "    }\n",
              "</style>\n",
              "<table border=\"1\" class=\"dataframe\">\n",
              "  <thead>\n",
              "    <tr style=\"text-align: right;\">\n",
              "      <th></th>\n",
              "      <th>Name</th>\n",
              "      <th>Gender</th>\n",
              "    </tr>\n",
              "  </thead>\n",
              "  <tbody>\n",
              "    <tr>\n",
              "      <th>0</th>\n",
              "      <td>[1, 1, 2, 1, 14]</td>\n",
              "      <td>1</td>\n",
              "    </tr>\n",
              "    <tr>\n",
              "      <th>1</th>\n",
              "      <td>[1, 1, 2, 8, 1]</td>\n",
              "      <td>0</td>\n",
              "    </tr>\n",
              "    <tr>\n",
              "      <th>2</th>\n",
              "      <td>[1, 1, 2, 9, 4]</td>\n",
              "      <td>1</td>\n",
              "    </tr>\n",
              "    <tr>\n",
              "      <th>3</th>\n",
              "      <td>[1, 1, 2, 18, 9, 5, 12, 12, 1]</td>\n",
              "      <td>0</td>\n",
              "    </tr>\n",
              "    <tr>\n",
              "      <th>4</th>\n",
              "      <td>[1, 1, 4, 1, 13]</td>\n",
              "      <td>1</td>\n",
              "    </tr>\n",
              "  </tbody>\n",
              "</table>\n",
              "</div>"
            ],
            "text/plain": [
              "                             Name  Gender\n",
              "0                [1, 1, 2, 1, 14]       1\n",
              "1                 [1, 1, 2, 8, 1]       0\n",
              "2                 [1, 1, 2, 9, 4]       1\n",
              "3  [1, 1, 2, 18, 9, 5, 12, 12, 1]       0\n",
              "4                [1, 1, 4, 1, 13]       1"
            ]
          },
          "metadata": {
            "tags": []
          },
          "execution_count": 18
        }
      ]
    },
    {
      "cell_type": "code",
      "metadata": {
        "id": "A-dJXQFwfOdb"
      },
      "source": [
        "X = df['Name'].values\n",
        "y = df['Gender'].values"
      ],
      "execution_count": 19,
      "outputs": []
    },
    {
      "cell_type": "code",
      "metadata": {
        "id": "DpJGdDEkfebz"
      },
      "source": [
        "name_length = [len(X[i]) for i in range(0, df.shape[0])]"
      ],
      "execution_count": 20,
      "outputs": []
    },
    {
      "cell_type": "code",
      "metadata": {
        "colab": {
          "base_uri": "https://localhost:8080/"
        },
        "id": "YBxXY-HQf0Zq",
        "outputId": "6a81910b-96f7-4b37-fd42-83e3831d4f19"
      },
      "source": [
        "name_length"
      ],
      "execution_count": 21,
      "outputs": [
        {
          "output_type": "execute_result",
          "data": {
            "text/plain": [
              "[5,\n",
              " 5,\n",
              " 5,\n",
              " 9,\n",
              " 5,\n",
              " 5,\n",
              " 7,\n",
              " 5,\n",
              " 6,\n",
              " 6,\n",
              " 8,\n",
              " 5,\n",
              " 7,\n",
              " 6,\n",
              " 7,\n",
              " 4,\n",
              " 6,\n",
              " 5,\n",
              " 5,\n",
              " 6,\n",
              " 7,\n",
              " 5,\n",
              " 6,\n",
              " 7,\n",
              " 7,\n",
              " 5,\n",
              " 5,\n",
              " 7,\n",
              " 7,\n",
              " 6,\n",
              " 6,\n",
              " 7,\n",
              " 5,\n",
              " 5,\n",
              " 7,\n",
              " 5,\n",
              " 4,\n",
              " 5,\n",
              " 6,\n",
              " 5,\n",
              " 6,\n",
              " 5,\n",
              " 8,\n",
              " 5,\n",
              " 6,\n",
              " 6,\n",
              " 6,\n",
              " 6,\n",
              " 5,\n",
              " 8,\n",
              " 7,\n",
              " 5,\n",
              " 5,\n",
              " 6,\n",
              " 6,\n",
              " 7,\n",
              " 7,\n",
              " 5,\n",
              " 4,\n",
              " 5,\n",
              " 8,\n",
              " 5,\n",
              " 9,\n",
              " 7,\n",
              " 6,\n",
              " 6,\n",
              " 7,\n",
              " 6,\n",
              " 7,\n",
              " 7,\n",
              " 4,\n",
              " 7,\n",
              " 8,\n",
              " 6,\n",
              " 7,\n",
              " 6,\n",
              " 5,\n",
              " 6,\n",
              " 7,\n",
              " 8,\n",
              " 8,\n",
              " 7,\n",
              " 8,\n",
              " 8,\n",
              " 5,\n",
              " 6,\n",
              " 8,\n",
              " 7,\n",
              " 8,\n",
              " 8,\n",
              " 8,\n",
              " 7,\n",
              " 7,\n",
              " 6,\n",
              " 7,\n",
              " 5,\n",
              " 6,\n",
              " 7,\n",
              " 6,\n",
              " 8,\n",
              " 7,\n",
              " 7,\n",
              " 6,\n",
              " 7,\n",
              " 5,\n",
              " 7,\n",
              " 6,\n",
              " 7,\n",
              " 7,\n",
              " 6,\n",
              " 7,\n",
              " 7,\n",
              " 8,\n",
              " 12,\n",
              " 11,\n",
              " 7,\n",
              " 8,\n",
              " 7,\n",
              " 8,\n",
              " 8,\n",
              " 7,\n",
              " 5,\n",
              " 5,\n",
              " 5,\n",
              " 6,\n",
              " 7,\n",
              " 6,\n",
              " 6,\n",
              " 7,\n",
              " 7,\n",
              " 7,\n",
              " 7,\n",
              " 7,\n",
              " 6,\n",
              " 5,\n",
              " 6,\n",
              " 8,\n",
              " 6,\n",
              " 6,\n",
              " 6,\n",
              " 5,\n",
              " 5,\n",
              " 5,\n",
              " 7,\n",
              " 6,\n",
              " 7,\n",
              " 5,\n",
              " 6,\n",
              " 7,\n",
              " 6,\n",
              " 7,\n",
              " 5,\n",
              " 6,\n",
              " 6,\n",
              " 5,\n",
              " 6,\n",
              " 4,\n",
              " 6,\n",
              " 5,\n",
              " 6,\n",
              " 7,\n",
              " 5,\n",
              " 6,\n",
              " 7,\n",
              " 6,\n",
              " 7,\n",
              " 6,\n",
              " 7,\n",
              " 8,\n",
              " 5,\n",
              " 6,\n",
              " 5,\n",
              " 5,\n",
              " 6,\n",
              " 6,\n",
              " 5,\n",
              " 5,\n",
              " 5,\n",
              " 4,\n",
              " 9,\n",
              " 9,\n",
              " 8,\n",
              " 6,\n",
              " 7,\n",
              " 8,\n",
              " 5,\n",
              " 6,\n",
              " 9,\n",
              " 5,\n",
              " 5,\n",
              " 6,\n",
              " 7,\n",
              " 4,\n",
              " 5,\n",
              " 6,\n",
              " 6,\n",
              " 7,\n",
              " 8,\n",
              " 5,\n",
              " 5,\n",
              " 6,\n",
              " 6,\n",
              " 5,\n",
              " 6,\n",
              " 8,\n",
              " 5,\n",
              " 6,\n",
              " 7,\n",
              " 5,\n",
              " 6,\n",
              " 6,\n",
              " 7,\n",
              " 8,\n",
              " 5,\n",
              " 6,\n",
              " 5,\n",
              " 5,\n",
              " 6,\n",
              " 7,\n",
              " 7,\n",
              " 8,\n",
              " 9,\n",
              " 8,\n",
              " 9,\n",
              " 5,\n",
              " 6,\n",
              " 4,\n",
              " 5,\n",
              " 6,\n",
              " 7,\n",
              " 5,\n",
              " 4,\n",
              " 5,\n",
              " 7,\n",
              " 6,\n",
              " 7,\n",
              " 5,\n",
              " 6,\n",
              " 7,\n",
              " 7,\n",
              " 9,\n",
              " 9,\n",
              " 10,\n",
              " 10,\n",
              " 9,\n",
              " 11,\n",
              " 9,\n",
              " 11,\n",
              " 8,\n",
              " 12,\n",
              " 6,\n",
              " 7,\n",
              " 6,\n",
              " 6,\n",
              " 5,\n",
              " 6,\n",
              " 8,\n",
              " 6,\n",
              " 5,\n",
              " 6,\n",
              " 7,\n",
              " 5,\n",
              " 6,\n",
              " 5,\n",
              " 6,\n",
              " 6,\n",
              " 7,\n",
              " 8,\n",
              " 6,\n",
              " 5,\n",
              " 6,\n",
              " 7,\n",
              " 5,\n",
              " 5,\n",
              " 7,\n",
              " 6,\n",
              " 5,\n",
              " 6,\n",
              " 7,\n",
              " 7,\n",
              " 6,\n",
              " 8,\n",
              " 7,\n",
              " 7,\n",
              " 9,\n",
              " 6,\n",
              " 7,\n",
              " 6,\n",
              " 6,\n",
              " 7,\n",
              " 8,\n",
              " 8,\n",
              " 9,\n",
              " 6,\n",
              " 5,\n",
              " 5,\n",
              " 5,\n",
              " 5,\n",
              " 6,\n",
              " 7,\n",
              " 5,\n",
              " 6,\n",
              " 6,\n",
              " 5,\n",
              " 6,\n",
              " 4,\n",
              " 5,\n",
              " 5,\n",
              " 4,\n",
              " 5,\n",
              " 6,\n",
              " 5,\n",
              " 6,\n",
              " 5,\n",
              " 4,\n",
              " 6,\n",
              " 5,\n",
              " 5,\n",
              " 5,\n",
              " 6,\n",
              " 7,\n",
              " 7,\n",
              " 7,\n",
              " 5,\n",
              " 6,\n",
              " 6,\n",
              " 5,\n",
              " 6,\n",
              " 7,\n",
              " 5,\n",
              " 4,\n",
              " 6,\n",
              " 7,\n",
              " 7,\n",
              " 5,\n",
              " 5,\n",
              " 7,\n",
              " 2,\n",
              " 3,\n",
              " 5,\n",
              " 4,\n",
              " 7,\n",
              " 7,\n",
              " 8,\n",
              " 7,\n",
              " 8,\n",
              " 8,\n",
              " 8,\n",
              " 8,\n",
              " 4,\n",
              " 7,\n",
              " 4,\n",
              " 5,\n",
              " 5,\n",
              " 7,\n",
              " 3,\n",
              " 4,\n",
              " 6,\n",
              " 8,\n",
              " 8,\n",
              " 9,\n",
              " 5,\n",
              " 4,\n",
              " 5,\n",
              " 8,\n",
              " 8,\n",
              " 9,\n",
              " 5,\n",
              " 9,\n",
              " 9,\n",
              " 4,\n",
              " 5,\n",
              " 9,\n",
              " 9,\n",
              " 10,\n",
              " 8,\n",
              " 8,\n",
              " 9,\n",
              " 7,\n",
              " 8,\n",
              " 8,\n",
              " 9,\n",
              " 7,\n",
              " 5,\n",
              " 6,\n",
              " 5,\n",
              " 9,\n",
              " 9,\n",
              " 4,\n",
              " 5,\n",
              " 8,\n",
              " 8,\n",
              " 9,\n",
              " 8,\n",
              " 8,\n",
              " 9,\n",
              " 8,\n",
              " 5,\n",
              " 3,\n",
              " 6,\n",
              " 7,\n",
              " 7,\n",
              " 8,\n",
              " 11,\n",
              " 10,\n",
              " 5,\n",
              " 9,\n",
              " 9,\n",
              " 11,\n",
              " 10,\n",
              " 8,\n",
              " 11,\n",
              " 10,\n",
              " 11,\n",
              " 4,\n",
              " 6,\n",
              " 8,\n",
              " 8,\n",
              " 6,\n",
              " 9,\n",
              " 9,\n",
              " 9,\n",
              " 9,\n",
              " 9,\n",
              " 9,\n",
              " 10,\n",
              " 8,\n",
              " 9,\n",
              " 9,\n",
              " 9,\n",
              " 8,\n",
              " 9,\n",
              " 10,\n",
              " 10,\n",
              " 9,\n",
              " 9,\n",
              " 9,\n",
              " 9,\n",
              " 9,\n",
              " 10,\n",
              " 9,\n",
              " 8,\n",
              " 4,\n",
              " 5,\n",
              " 5,\n",
              " 6,\n",
              " 9,\n",
              " 10,\n",
              " 8,\n",
              " 11,\n",
              " 12,\n",
              " 9,\n",
              " 6,\n",
              " 4,\n",
              " 6,\n",
              " 9,\n",
              " 6,\n",
              " 5,\n",
              " 6,\n",
              " 7,\n",
              " 9,\n",
              " 8,\n",
              " 7,\n",
              " 8,\n",
              " 10,\n",
              " 10,\n",
              " 9,\n",
              " 9,\n",
              " 10,\n",
              " 6,\n",
              " 9,\n",
              " 9,\n",
              " 11,\n",
              " 10,\n",
              " 10,\n",
              " 11,\n",
              " 10,\n",
              " 11,\n",
              " 11,\n",
              " 10,\n",
              " 10,\n",
              " 11,\n",
              " 10,\n",
              " 6,\n",
              " 7,\n",
              " 8,\n",
              " 9,\n",
              " 10,\n",
              " 8,\n",
              " 11,\n",
              " 10,\n",
              " 10,\n",
              " 10,\n",
              " 11,\n",
              " 10,\n",
              " 10,\n",
              " 11,\n",
              " 10,\n",
              " 11,\n",
              " 11,\n",
              " 10,\n",
              " 10,\n",
              " 10,\n",
              " 10,\n",
              " 10,\n",
              " 10,\n",
              " 5,\n",
              " 10,\n",
              " 11,\n",
              " 10,\n",
              " 12,\n",
              " 11,\n",
              " 11,\n",
              " 10,\n",
              " 3,\n",
              " 5,\n",
              " 4,\n",
              " 9,\n",
              " 12,\n",
              " 8,\n",
              " 6,\n",
              " 5,\n",
              " 6,\n",
              " 7,\n",
              " 7,\n",
              " 8,\n",
              " 4,\n",
              " 5,\n",
              " 8,\n",
              " 7,\n",
              " 7,\n",
              " 5,\n",
              " 6,\n",
              " 4,\n",
              " 4,\n",
              " 5,\n",
              " 8,\n",
              " 5,\n",
              " 4,\n",
              " 8,\n",
              " 7,\n",
              " 9,\n",
              " 5,\n",
              " 5,\n",
              " 4,\n",
              " 6,\n",
              " 4,\n",
              " 5,\n",
              " 6,\n",
              " 4,\n",
              " 7,\n",
              " 7,\n",
              " 8,\n",
              " 7,\n",
              " 7,\n",
              " 5,\n",
              " 8,\n",
              " 9,\n",
              " 7,\n",
              " 7,\n",
              " 8,\n",
              " 7,\n",
              " 7,\n",
              " 7,\n",
              " 8,\n",
              " 3,\n",
              " 4,\n",
              " 8,\n",
              " 5,\n",
              " 5,\n",
              " 7,\n",
              " 7,\n",
              " 4,\n",
              " 5,\n",
              " 6,\n",
              " 4,\n",
              " 8,\n",
              " 5,\n",
              " 6,\n",
              " 7,\n",
              " 7,\n",
              " 7,\n",
              " 9,\n",
              " 8,\n",
              " 6,\n",
              " 7,\n",
              " 8,\n",
              " 12,\n",
              " 9,\n",
              " 12,\n",
              " 11,\n",
              " 6,\n",
              " 7,\n",
              " 8,\n",
              " 7,\n",
              " 8,\n",
              " 7,\n",
              " 6,\n",
              " 7,\n",
              " 5,\n",
              " 7,\n",
              " 6,\n",
              " 7,\n",
              " 8,\n",
              " 6,\n",
              " 6,\n",
              " 7,\n",
              " 7,\n",
              " 8,\n",
              " 8,\n",
              " 4,\n",
              " 8,\n",
              " 7,\n",
              " 6,\n",
              " 7,\n",
              " 7,\n",
              " 6,\n",
              " 6,\n",
              " 4,\n",
              " 5,\n",
              " 6,\n",
              " 7,\n",
              " 6,\n",
              " 6,\n",
              " 5,\n",
              " 6,\n",
              " 7,\n",
              " 7,\n",
              " 7,\n",
              " 5,\n",
              " 6,\n",
              " 4,\n",
              " 4,\n",
              " 5,\n",
              " 5,\n",
              " 5,\n",
              " 5,\n",
              " 4,\n",
              " 9,\n",
              " 9,\n",
              " 4,\n",
              " 6,\n",
              " 6,\n",
              " 5,\n",
              " 7,\n",
              " 7,\n",
              " 8,\n",
              " 7,\n",
              " 7,\n",
              " 6,\n",
              " 5,\n",
              " 5,\n",
              " 7,\n",
              " 5,\n",
              " 7,\n",
              " 5,\n",
              " 7,\n",
              " 8,\n",
              " 5,\n",
              " 6,\n",
              " 5,\n",
              " 7,\n",
              " 8,\n",
              " 5,\n",
              " 6,\n",
              " 6,\n",
              " 4,\n",
              " 5,\n",
              " 6,\n",
              " 6,\n",
              " 6,\n",
              " 6,\n",
              " 7,\n",
              " 8,\n",
              " 9,\n",
              " 8,\n",
              " 5,\n",
              " 6,\n",
              " 7,\n",
              " 7,\n",
              " 8,\n",
              " 8,\n",
              " 6,\n",
              " 8,\n",
              " 8,\n",
              " 7,\n",
              " 5,\n",
              " 7,\n",
              " 6,\n",
              " 6,\n",
              " 7,\n",
              " 8,\n",
              " 6,\n",
              " 7,\n",
              " 8,\n",
              " 5,\n",
              " 5,\n",
              " 5,\n",
              " 4,\n",
              " 7,\n",
              " 8,\n",
              " 8,\n",
              " 8,\n",
              " 5,\n",
              " 7,\n",
              " 7,\n",
              " 6,\n",
              " 6,\n",
              " 5,\n",
              " 3,\n",
              " 8,\n",
              " 9,\n",
              " 8,\n",
              " 9,\n",
              " 9,\n",
              " 8,\n",
              " 7,\n",
              " 4,\n",
              " 6,\n",
              " 7,\n",
              " 3,\n",
              " 6,\n",
              " 5,\n",
              " 7,\n",
              " 7,\n",
              " 8,\n",
              " 7,\n",
              " 8,\n",
              " 9,\n",
              " 2,\n",
              " 6,\n",
              " 6,\n",
              " 6,\n",
              " 5,\n",
              " 6,\n",
              " 7,\n",
              " 7,\n",
              " 6,\n",
              " 5,\n",
              " 8,\n",
              " 3,\n",
              " 4,\n",
              " 5,\n",
              " 4,\n",
              " 6,\n",
              " 7,\n",
              " 6,\n",
              " 7,\n",
              " 4,\n",
              " 8,\n",
              " 5,\n",
              " 4,\n",
              " 6,\n",
              " 6,\n",
              " 6,\n",
              " 4,\n",
              " 5,\n",
              " 5,\n",
              " 6,\n",
              " 5,\n",
              " 7,\n",
              " 7,\n",
              " 6,\n",
              " 7,\n",
              " 5,\n",
              " 7,\n",
              " 7,\n",
              " 8,\n",
              " 9,\n",
              " 9,\n",
              " 8,\n",
              " 5,\n",
              " 6,\n",
              " 5,\n",
              " 6,\n",
              " 6,\n",
              " 7,\n",
              " 4,\n",
              " 6,\n",
              " 4,\n",
              " 5,\n",
              " 4,\n",
              " 5,\n",
              " 6,\n",
              " 6,\n",
              " 4,\n",
              " 10,\n",
              " 10,\n",
              " 4,\n",
              " 5,\n",
              " 5,\n",
              " 3,\n",
              " 2,\n",
              " 3,\n",
              " 6,\n",
              " 8,\n",
              " 8,\n",
              " 6,\n",
              " 4,\n",
              " 5,\n",
              " 7,\n",
              " 6,\n",
              " 6,\n",
              " 4,\n",
              " 6,\n",
              " 6,\n",
              " 7,\n",
              " 5,\n",
              " 4,\n",
              " 5,\n",
              " 6,\n",
              " 6,\n",
              " 7,\n",
              " 5,\n",
              " 5,\n",
              " 6,\n",
              " 6,\n",
              " 7,\n",
              " 7,\n",
              " 7,\n",
              " 5,\n",
              " 6,\n",
              " 5,\n",
              " 4,\n",
              " 5,\n",
              " 7,\n",
              " 6,\n",
              " 6,\n",
              " 8,\n",
              " 6,\n",
              " 7,\n",
              " 8,\n",
              " 8,\n",
              " 9,\n",
              " 5,\n",
              " 6,\n",
              " 7,\n",
              " 6,\n",
              " 7,\n",
              " 8,\n",
              " 6,\n",
              " 8,\n",
              " 8,\n",
              " 6,\n",
              " 7,\n",
              " 7,\n",
              " 6,\n",
              " 7,\n",
              " 8,\n",
              " 6,\n",
              " 5,\n",
              " 6,\n",
              " 7,\n",
              " 8,\n",
              " 6,\n",
              " 7,\n",
              " 6,\n",
              " 8,\n",
              " 6,\n",
              " 7,\n",
              " 7,\n",
              " 8,\n",
              " 7,\n",
              " 7,\n",
              " 6,\n",
              " 7,\n",
              " 7,\n",
              " 8,\n",
              " 7,\n",
              " 8,\n",
              " 6,\n",
              " 7,\n",
              " 7,\n",
              " 5,\n",
              " 6,\n",
              " 6,\n",
              " 6,\n",
              " 7,\n",
              " 7,\n",
              " 7,\n",
              " 7,\n",
              " 8,\n",
              " 6,\n",
              " 4,\n",
              " 5,\n",
              " 6,\n",
              " 7,\n",
              " 8,\n",
              " 8,\n",
              " 8,\n",
              " 7,\n",
              " 8,\n",
              " 7,\n",
              " 5,\n",
              " 6,\n",
              " 11,\n",
              " 5,\n",
              " 5,\n",
              " 4,\n",
              " 5,\n",
              " 7,\n",
              " 8,\n",
              " 7,\n",
              " 6,\n",
              " 8,\n",
              " 6,\n",
              " 6,\n",
              " 6,\n",
              " 6,\n",
              " 4,\n",
              " 5,\n",
              " 6,\n",
              " 5,\n",
              " 6,\n",
              " 7,\n",
              " 7,\n",
              " 7,\n",
              " 8,\n",
              " 7,\n",
              " 8,\n",
              " 7,\n",
              " 8,\n",
              " 6,\n",
              " 6,\n",
              " 7,\n",
              " 6,\n",
              " 7,\n",
              " 6,\n",
              " 6,\n",
              " 6,\n",
              " 6,\n",
              " 6,\n",
              " 6,\n",
              " 7,\n",
              " 5,\n",
              " 6,\n",
              " 6,\n",
              " 7,\n",
              " 8,\n",
              " 7,\n",
              " 6,\n",
              " 6,\n",
              " 3,\n",
              " 4,\n",
              " 5,\n",
              " 5,\n",
              " 7,\n",
              " 9,\n",
              " 7,\n",
              " 7,\n",
              " 7,\n",
              " 8,\n",
              " 8,\n",
              " 7,\n",
              " 8,\n",
              " 8,\n",
              " 9,\n",
              " 5,\n",
              " 5,\n",
              " 7,\n",
              " 7,\n",
              " 8,\n",
              " 8,\n",
              " 6,\n",
              " 7,\n",
              " 8,\n",
              " 8,\n",
              " 9,\n",
              " 5,\n",
              " 7,\n",
              " 7,\n",
              " 7,\n",
              " 5,\n",
              " 4,\n",
              " 5,\n",
              " 7,\n",
              " 7,\n",
              " 5,\n",
              " 6,\n",
              " 9,\n",
              " 8,\n",
              " 8,\n",
              " 7,\n",
              " 9,\n",
              " 7,\n",
              " 8,\n",
              " 7,\n",
              " 8,\n",
              " 8,\n",
              " 9,\n",
              " 6,\n",
              " 9,\n",
              " 5,\n",
              " 7,\n",
              " 7,\n",
              " 7,\n",
              " 7,\n",
              " 8,\n",
              " 8,\n",
              " 7,\n",
              " ...]"
            ]
          },
          "metadata": {
            "tags": []
          },
          "execution_count": 21
        }
      ]
    },
    {
      "cell_type": "code",
      "metadata": {
        "id": "qN-EFQ4pf4FV"
      },
      "source": [
        "import matplotlib.pyplot as plt\n"
      ],
      "execution_count": 22,
      "outputs": []
    },
    {
      "cell_type": "code",
      "metadata": {
        "colab": {
          "base_uri": "https://localhost:8080/",
          "height": 265
        },
        "id": "GWZC4Ptvf9r7",
        "outputId": "60114010-0ab4-4fd6-b5dd-bfdc54c93985"
      },
      "source": [
        "plt.hist(name_length, bins = 20)\n",
        "plt.show()"
      ],
      "execution_count": 23,
      "outputs": [
        {
          "output_type": "display_data",
          "data": {
            "image/png": "[encoded data removed]",
            "text/plain": [
              "<Figure size 432x288 with 1 Axes>"
            ]
          },
          "metadata": {
            "tags": [],
            "needs_background": "light"
          }
        }
      ]
    },
    {
      "cell_type": "code",
      "metadata": {
        "id": "5Gcun_a6gDus"
      },
      "source": [
        "from keras.preprocessing.sequence import pad_sequences"
      ],
      "execution_count": 24,
      "outputs": []
    },
    {
      "cell_type": "code",
      "metadata": {
        "id": "oPi9ipSugOrW"
      },
      "source": [
        "x = pad_sequences(df['Name'].values, maxlen=10, padding='pre')"
      ],
      "execution_count": 25,
      "outputs": []
    },
    {
      "cell_type": "code",
      "metadata": {
        "colab": {
          "base_uri": "https://localhost:8080/"
        },
        "id": "_Nvc-PWhgYk_",
        "outputId": "ca588ac8-8a0c-4491-e360-12bc4f574d90"
      },
      "source": [
        "x"
      ],
      "execution_count": 26,
      "outputs": [
        {
          "output_type": "execute_result",
          "data": {
            "text/plain": [
              "array([[ 0,  0,  0, ...,  2,  1, 14],\n",
              "       [ 0,  0,  0, ...,  2,  8,  1],\n",
              "       [ 0,  0,  0, ...,  2,  9,  4],\n",
              "       ...,\n",
              "       [ 0,  0,  0, ..., 14, 14,  1],\n",
              "       [ 0,  0,  0, ..., 25, 15, 14],\n",
              "       [ 0,  0,  0, ..., 25, 26, 24]], dtype=int32)"
            ]
          },
          "metadata": {
            "tags": []
          },
          "execution_count": 26
        }
      ]
    },
    {
      "cell_type": "code",
      "metadata": {
        "id": "Wm8jQRPUgZRI"
      },
      "source": [
        "from keras.layers import Input, Embedding, Dense, LSTM\n",
        "from keras.models import Model"
      ],
      "execution_count": 27,
      "outputs": []
    },
    {
      "cell_type": "code",
      "metadata": {
        "colab": {
          "base_uri": "https://localhost:8080/"
        },
        "id": "C9c6hNMxg00J",
        "outputId": "f1e15811-8ab2-4f41-f167-008f73d2786d"
      },
      "source": [
        "vocab_size = len(vocab)+1\n",
        "vocab_size"
      ],
      "execution_count": 28,
      "outputs": [
        {
          "output_type": "execute_result",
          "data": {
            "text/plain": [
              "27"
            ]
          },
          "metadata": {
            "tags": []
          },
          "execution_count": 28
        }
      ]
    },
    {
      "cell_type": "code",
      "metadata": {
        "id": "ReAI5P4Rgnf_"
      },
      "source": [
        "inp = Input(shape=(10, ))\n",
        "emn = Embedding(input_dim=vocab_size, output_dim=5)(inp)\n",
        "\n",
        "lstm1 = LSTM(units = 32, return_sequences=True)(emn)\n",
        "lstm2 = LSTM(units=64)(lstm1)\n",
        "\n",
        "out = Dense(units = 1, activation='sigmoid')(lstm2)\n",
        "my_model = Model(inputs = inp, outputs = out)"
      ],
      "execution_count": 29,
      "outputs": []
    },
    {
      "cell_type": "code",
      "metadata": {
        "colab": {
          "base_uri": "https://localhost:8080/"
        },
        "id": "SgRyJLZchsOA",
        "outputId": "f6987dfe-9589-4868-d3d0-05fb226a837c"
      },
      "source": [
        "my_model.summary()"
      ],
      "execution_count": 30,
      "outputs": [
        {
          "output_type": "stream",
          "text": [
            "Model: \"model\"\n",
            "_________________________________________________________________\n",
            "Layer (type)                 Output Shape              Param #   \n",
            "=================================================================\n",
            "input_1 (InputLayer)         [(None, 10)]              0         \n",
            "_________________________________________________________________\n",
            "embedding (Embedding)        (None, 10, 5)             135       \n",
            "_________________________________________________________________\n",
            "lstm (LSTM)                  (None, 10, 32)            4864      \n",
            "_________________________________________________________________\n",
            "lstm_1 (LSTM)                (None, 64)                24832     \n",
            "_________________________________________________________________\n",
            "dense (Dense)                (None, 1)                 65        \n",
            "=================================================================\n",
            "Total params: 29,896\n",
            "Trainable params: 29,896\n",
            "Non-trainable params: 0\n",
            "_________________________________________________________________\n"
          ],
          "name": "stdout"
        }
      ]
    },
    {
      "cell_type": "code",
      "metadata": {
        "id": "awQxNd1Ehxl6"
      },
      "source": [
        "my_model.compile(optimizer='adam', loss='binary_crossentropy', metrics=['acc'])"
      ],
      "execution_count": 31,
      "outputs": []
    },
    {
      "cell_type": "code",
      "metadata": {
        "colab": {
          "base_uri": "https://localhost:8080/"
        },
        "id": "mcqeFawZiKX4",
        "outputId": "517864aa-4240-4610-d9cc-43a040792cbb"
      },
      "source": [
        "his = my_model.fit(x, y, epochs = 10, batch_size=256, validation_split=0.2)"
      ],
      "execution_count": 32,
      "outputs": [
        {
          "output_type": "stream",
          "text": [
            "Epoch 1/10\n",
            "294/294 [==============================] - 16s 43ms/step - loss: 0.6106 - acc: 0.6871 - val_loss: 0.4142 - val_acc: 0.8153\n",
            "Epoch 2/10\n",
            "294/294 [==============================] - 11s 38ms/step - loss: 0.4178 - acc: 0.8035 - val_loss: 0.3983 - val_acc: 0.8169\n",
            "Epoch 3/10\n",
            "294/294 [==============================] - 11s 39ms/step - loss: 0.3954 - acc: 0.8159 - val_loss: 0.3979 - val_acc: 0.8138\n",
            "Epoch 4/10\n",
            "294/294 [==============================] - 11s 39ms/step - loss: 0.3940 - acc: 0.8144 - val_loss: 0.3892 - val_acc: 0.8197\n",
            "Epoch 5/10\n",
            "294/294 [==============================] - 11s 39ms/step - loss: 0.3866 - acc: 0.8201 - val_loss: 0.3839 - val_acc: 0.8253\n",
            "Epoch 6/10\n",
            "294/294 [==============================] - 11s 39ms/step - loss: 0.3825 - acc: 0.8199 - val_loss: 0.3797 - val_acc: 0.8263\n",
            "Epoch 7/10\n",
            "294/294 [==============================] - 11s 39ms/step - loss: 0.3844 - acc: 0.8208 - val_loss: 0.3733 - val_acc: 0.8272\n",
            "Epoch 8/10\n",
            "294/294 [==============================] - 11s 38ms/step - loss: 0.3823 - acc: 0.8238 - val_loss: 0.3773 - val_acc: 0.8262\n",
            "Epoch 9/10\n",
            "294/294 [==============================] - 11s 39ms/step - loss: 0.3747 - acc: 0.8249 - val_loss: 0.3713 - val_acc: 0.8292\n",
            "Epoch 10/10\n",
            "294/294 [==============================] - 11s 38ms/step - loss: 0.3672 - acc: 0.8297 - val_loss: 0.3656 - val_acc: 0.8315\n"
          ],
          "name": "stdout"
        }
      ]
    },
    {
      "cell_type": "code",
      "metadata": {
        "id": "lcXyspOFidqX"
      },
      "source": [
        "h = his.history"
      ],
      "execution_count": 33,
      "outputs": []
    },
    {
      "cell_type": "code",
      "metadata": {
        "colab": {
          "base_uri": "https://localhost:8080/",
          "height": 265
        },
        "id": "St_l9wf6jBGf",
        "outputId": "8f211178-162f-47e5-807c-1ff8268250f2"
      },
      "source": [
        "plt.plot(h['acc'])\n",
        "plt.show()"
      ],
      "execution_count": 34,
      "outputs": [
        {
          "output_type": "display_data",
          "data": {
            "image/png": "[encoded data removed]",
            "text/plain": [
              "<Figure size 432x288 with 1 Axes>"
            ]
          },
          "metadata": {
            "tags": [],
            "needs_background": "light"
          }
        }
      ]
    },
    {
      "cell_type": "code",
      "metadata": {
        "colab": {
          "base_uri": "https://localhost:8080/",
          "height": 265
        },
        "id": "XIIMNJ4UjAxx",
        "outputId": "375bc8b5-6488-4f90-b843-c87257488b00"
      },
      "source": [
        "plt.plot(h['val_acc'])\n",
        "plt.show()"
      ],
      "execution_count": 35,
      "outputs": [
        {
          "output_type": "display_data",
          "data": {
            "image/png": "[encoded data removed]",
            "text/plain": [
              "<Figure size 432x288 with 1 Axes>"
            ]
          },
          "metadata": {
            "tags": [],
            "needs_background": "light"
          }
        }
      ]
    },
    {
      "cell_type": "code",
      "metadata": {
        "colab": {
          "base_uri": "https://localhost:8080/",
          "height": 265
        },
        "id": "hcLBwCv0izAS",
        "outputId": "334026a7-5f25-4e4e-f126-9b704bdea447"
      },
      "source": [
        "plt.plot(h['acc'])\n",
        "plt.plot(h['val_acc'])\n",
        "plt.show()"
      ],
      "execution_count": 36,
      "outputs": [
        {
          "output_type": "display_data",
          "data": {
            "image/png": "[encoded data removed]",
            "text/plain": [
              "<Figure size 432x288 with 1 Axes>"
            ]
          },
          "metadata": {
            "tags": [],
            "needs_background": "light"
          }
        }
      ]
    },
    {
      "cell_type": "code",
      "metadata": {
        "colab": {
          "base_uri": "https://localhost:8080/"
        },
        "id": "7jPtenloi-WF",
        "outputId": "1bf9f571-708d-4c8e-ff47-79cfde76e996"
      },
      "source": [
        "name = 'Tom'\n",
        "test_name = name.lower()\n",
        "\n",
        "seq = [vocab[i] for i in test_name]\n",
        "x_test = pad_sequences([seq], 10)\n",
        "x_test"
      ],
      "execution_count": 37,
      "outputs": [
        {
          "output_type": "execute_result",
          "data": {
            "text/plain": [
              "array([[ 0,  0,  0,  0,  0,  0,  0, 20, 15, 13]], dtype=int32)"
            ]
          },
          "metadata": {
            "tags": []
          },
          "execution_count": 37
        }
      ]
    },
    {
      "cell_type": "code",
      "metadata": {
        "colab": {
          "base_uri": "https://localhost:8080/"
        },
        "id": "esWef-gOj_lA",
        "outputId": "551862b2-f706-40ce-f571-b35a17e2cf5f"
      },
      "source": [
        "y_pred = my_model.predict(x_test)\n",
        "y_pred"
      ],
      "execution_count": 38,
      "outputs": [
        {
          "output_type": "execute_result",
          "data": {
            "text/plain": [
              "array([[0.728433]], dtype=float32)"
            ]
          },
          "metadata": {
            "tags": []
          },
          "execution_count": 38
        }
      ]
    },
    {
      "cell_type": "code",
      "metadata": {
        "colab": {
          "base_uri": "https://localhost:8080/"
        },
        "id": "nSbIOKlPkLEa",
        "outputId": "41e0a5be-f832-407b-fb16-28e9edb7eb0b"
      },
      "source": [
        "#In Layman terms\n",
        "y_pred = my_model.predict(x_test)\n",
        "if y_pred<0.5:\n",
        "  print('Female')\n",
        "else:\n",
        "  print('Male')"
      ],
      "execution_count": 39,
      "outputs": [
        {
          "output_type": "stream",
          "text": [
            "Male\n"
          ],
          "name": "stdout"
        }
      ]
    },
    {
      "cell_type": "code",
      "metadata": {
        "colab": {
          "base_uri": "https://localhost:8080/"
        },
        "id": "XUORewpSkon4",
        "outputId": "c3f8b94a-9e42-4407-cff6-46dcb94cd250"
      },
      "source": [
        "# Single Time Name Execution To Predict\n",
        "name = 'Ram'\n",
        "test_name = name.lower()\n",
        "\n",
        "seq = [vocab[i] for i in test_name]\n",
        "x_test = pad_sequences([seq], 10)\n",
        "x_test\n",
        "\n",
        "y_pred = my_model.predict(x_test)\n",
        "if y_pred<0.5:\n",
        "  print('Female')\n",
        "else:\n",
        "  print('Male')"
      ],
      "execution_count": 40,
      "outputs": [
        {
          "output_type": "stream",
          "text": [
            "Male\n"
          ],
          "name": "stdout"
        }
      ]
    },
    {
      "cell_type": "code",
      "metadata": {
        "id": "N5007vXUk4kS"
      },
      "source": [
        ""
      ],
      "execution_count": 40,
      "outputs": []
    }
  ]
}